{
 "cells": [
  {
   "cell_type": "markdown",
   "id": "ebbed88e",
   "metadata": {},
   "source": [
    "**If virtual environment not created, please follow README steps to create virtual environment and install packages in requirements.txt** </br>"
   ]
  },
  {
   "cell_type": "markdown",
   "id": "4110c989",
   "metadata": {},
   "source": [
    "**IMPORTANT**</br>\n",
    "From here on, please change the IPython kernel to project_venv </br>\n",
    "If kernel with name project_venv and Python version 3.12 NOT showing, please run below cells"
   ]
  },
  {
   "cell_type": "markdown",
   "id": "2cee698f",
   "metadata": {},
   "source": [
    "**For Linux/macOS**"
   ]
  },
  {
   "cell_type": "code",
   "execution_count": null,
   "id": "d675ca2b",
   "metadata": {},
   "outputs": [],
   "source": [
    "#Check if you can see kernel, if not run below line\n",
    "!python3.12 -m ipykernel install --user --name=project_venv\n",
    "#After running above, if still not visible, restart Jupyter Notebook/Jupyter Lab, should now be visible"
   ]
  },
  {
   "cell_type": "markdown",
   "id": "d48b23fb",
   "metadata": {},
   "source": [
    "**For Windows**"
   ]
  },
  {
   "cell_type": "code",
   "execution_count": null,
   "id": "1e36a2ae",
   "metadata": {},
   "outputs": [],
   "source": [
    "#Check if you can see kernel, if not run below line\n",
    "!python -m ipykernel install --user --name=project_venv\n",
    "#After running above, if still not visible, restart Jupyter Notebook/Jupyter Lab, should now be visible"
   ]
  },
  {
   "cell_type": "markdown",
   "id": "4d85064a",
   "metadata": {},
   "source": [
    "**Preprocessing** </br>\n",
    "Note that running the following block may take ~30 minutes. The preprocessed data file is already included in the zip file (in data/processed_data_nouns.csv), so it is not necessary to run the following code block."
   ]
  },
  {
   "cell_type": "code",
   "execution_count": null,
   "id": "42a5bd63",
   "metadata": {},
   "outputs": [],
   "source": [
    "%run preprocessing.py"
   ]
  },
  {
   "cell_type": "markdown",
   "id": "faf8f33d",
   "metadata": {},
   "source": [
    "**Clustering** </br>\n",
    "The following code block will create 2 clusters per product name for words in the review for a product name. This block takes **at least 75 minutes** to run. Again, it is not necessary to run the following code blok because the output(clusterer_state.pkl) is included in the zip file."
   ]
  },
  {
   "cell_type": "code",
   "execution_count": null,
   "id": "4295c394",
   "metadata": {},
   "outputs": [],
   "source": [
    "%run clustering.py"
   ]
  },
  {
   "cell_type": "markdown",
   "id": "de6d75f5",
   "metadata": {},
   "source": [
    "**Retrieval/Frontend** </br>\n",
    "Run the following to interact with the model. It may take ~1 minute before prompting for input since it needs to download Word2Vec model."
   ]
  },
  {
   "cell_type": "code",
   "execution_count": null,
   "id": "af6e413a",
   "metadata": {},
   "outputs": [],
   "source": [
    "%run retriever.py"
   ]
  }
 ],
 "metadata": {
  "kernelspec": {
   "display_name": "test_venv_410",
   "language": "python",
   "name": "python3"
  },
  "language_info": {
   "codemirror_mode": {
    "name": "ipython",
    "version": 3
   },
   "file_extension": ".py",
   "mimetype": "text/x-python",
   "name": "python",
   "nbconvert_exporter": "python",
   "pygments_lexer": "ipython3",
   "version": "3.12.0"
  }
 },
 "nbformat": 4,
 "nbformat_minor": 5
}
